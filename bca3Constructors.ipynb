{
 "cells": [
  {
   "cell_type": "code",
   "execution_count": 3,
   "id": "39ca1ca8-f19f-4343-9444-b3f1f2d8aa07",
   "metadata": {},
   "outputs": [
    {
     "name": "stdout",
     "output_type": "stream",
     "text": [
      "area of circle is : 12.566370614359172\n",
      "area of square is : 4\n",
      "area of rectangle is : 6\n",
      "area of cube is : 24\n"
     ]
    }
   ],
   "source": [
    "# ================Class Overloading Example =================\n",
    "\n",
    "import math\n",
    "class DemoOverload:\n",
    "    area=0\n",
    "    def compute(self, shape,*num):\n",
    "        if shape=='circle':\n",
    "            for i in num:\n",
    "                self.area= math.pi*int(i)**2\n",
    "        elif shape=='square':\n",
    "            for i in num:\n",
    "                self.area= int(i)* int(i)\n",
    "        elif shape=='rectangle':\n",
    "            self.area=1\n",
    "            for i in num:\n",
    "                self.area=self.area*int(i)\n",
    "        elif shape=='cube':\n",
    "            self.area=1\n",
    "            for i in num:\n",
    "                self.area=self.area*int(i)\n",
    "        return self.area\n",
    "D1=DemoOverload()\n",
    "print('area of circle is :', D1.compute('circle',2))\n",
    "print('area of square is :',D1.compute('square',2))\n",
    "print('area of rectangle is :',D1.compute('rectangle',2,3))\n",
    "print('area of cube is :',D1.compute('cube',2,3,4))"
   ]
  },
  {
   "cell_type": "code",
   "execution_count": 9,
   "id": "52220bc5-2024-455d-aa73-a787a372e29c",
   "metadata": {},
   "outputs": [
    {
     "name": "stdout",
     "output_type": "stream",
     "text": [
      "Employee created.\n",
      "Employee Name :  GNIMT Employee\n",
      "Salary :  75000\n",
      "Destructor called, Employee deleted.\n"
     ]
    }
   ],
   "source": [
    "# Demo Constructors and destructor\n",
    "# Constructor initializes values of variables in the object when the object is created\n",
    "# Destructor realease the memory occupied by object when the object goes out of scope\n",
    "# Constructor  __init__\n",
    "# Destructor   __del__\n",
    "# -----------------------------------------------------------------------------------\n",
    "class Employee:\n",
    "    # Initializing values\n",
    "    def __init__(self):\n",
    "        self.name='GNIMT Employee'\n",
    "        self.salary=75000\n",
    "        print('Employee created.')\n",
    "\n",
    "    # Deleting (Calling destructor)\n",
    "    def __del__(self):\n",
    "        print('Destructor called, Employee deleted.')\n",
    "\n",
    "    def show(self):\n",
    "        print('Employee Name : ', self.name)\n",
    "        print('Salary : ', self.salary)\n",
    "\n",
    "obj = Employee()\n",
    "obj.show()\n",
    "del obj\n"
   ]
  },
  {
   "cell_type": "code",
   "execution_count": 11,
   "id": "2c5fac36-2ed8-4159-9c94-841da7e13b3d",
   "metadata": {},
   "outputs": [
    {
     "name": "stdout",
     "output_type": "stream",
     "text": [
      "Cloth = Cotton\n",
      "Type = T-Shirt\n"
     ]
    }
   ],
   "source": [
    "# Constructor Example  NON -Parametrised\n",
    "# -----------------------------\n",
    "class Dress:\n",
    "   def __init__(self):\n",
    "       self.cloth = \"Cotton\"\n",
    "       self.type = \"T-Shirt\"\n",
    "   def get_details(self):\n",
    "       return f\"Cloth = {self.cloth}\\nType = {self.type}\"\n",
    "t_shirt = Dress()\n",
    "print(t_shirt.get_details())"
   ]
  },
  {
   "cell_type": "code",
   "execution_count": 13,
   "id": "6a27e571-72d9-4430-ae52-cfb2edadd921",
   "metadata": {},
   "outputs": [
    {
     "name": "stdout",
     "output_type": "stream",
     "text": [
      "20 silk shirt\n",
      "5 cotton t-shirt\n",
      "10 PolyFabric Formal Shirt\n"
     ]
    }
   ],
   "source": [
    "# PARAMETERIZED CONSTRUCTOR\n",
    "# ==============================================\n",
    "class Dress:\n",
    "   def __init__(self, cloth, type, quantity=5):\n",
    "       self.cloth = cloth\n",
    "       self.type = type\n",
    "       self.quantity = quantity\n",
    "   def get_details(self):\n",
    "       # Return Multiple values \n",
    "       return f\"{self.quantity} {self.cloth} {self.type}\" \n",
    "       \n",
    "shirt = Dress(\"silk\", \"shirt\", 20)\n",
    "t_shirt = Dress(\"cotton\", \"t-shirt\") # default value 5 used for quantity\n",
    "more_shirts = Dress(\"PolyFabric\",\"Formal Shirt\",10)\n",
    "print(shirt.get_details())\n",
    "print(t_shirt.get_details())\n",
    "print(more_shirts.get_details())"
   ]
  },
  {
   "cell_type": "code",
   "execution_count": 1,
   "id": "61392ba9-8e53-455f-9538-ad8b2c965b27",
   "metadata": {},
   "outputs": [
    {
     "name": "stdout",
     "output_type": "stream",
     "text": [
      "Welcome to Python\n",
      "Welcome to Python\n",
      " Id of ob1 =  3061185882640\n",
      " Id of ob2 =  3061185885392\n",
      " Id of ob3 =  3061185885392\n",
      "Destructor executed...\n",
      "Destructor executed...\n"
     ]
    }
   ],
   "source": [
    "# Write a program to demonstrate the working of Destructor.\n",
    "# ---------------------------------------------------------\n",
    "class DestructorDemo:\n",
    "    def __init__(self):\n",
    "        print('Welcome to Python')\n",
    "    def __del__(self):\n",
    "        print('Destructor executed...')\n",
    "\n",
    "ob1=DestructorDemo()\n",
    "ob2=DestructorDemo()\n",
    "ob3=ob2\n",
    "print(' Id of ob1 = ', id(ob1))\n",
    "print(' Id of ob2 = ', id(ob2))\n",
    "print(' Id of ob3 = ', id(ob3))\n",
    "del ob1\n",
    "del ob2\n",
    "del ob3       \n"
   ]
  },
  {
   "cell_type": "code",
   "execution_count": 2,
   "id": "04975a3a-6bb2-42c3-8a92-b19e7e2c76f8",
   "metadata": {},
   "outputs": [
    {
     "name": "stdout",
     "output_type": "stream",
     "text": [
      "60\n",
      " India is Great\n"
     ]
    }
   ],
   "source": [
    "# Write a program to demonstrate the working of method overloading ( using *args)\n",
    "# -------------------------------------------------------------------------------\n",
    "class DemoOverload:\n",
    "    result=0\n",
    "    def add(self, instanceOf=None, *args):\n",
    "        if instanceOf=='int':\n",
    "            self.result=0\n",
    "        if instanceOf=='str':\n",
    "            self.result=' '\n",
    "        for i in args:\n",
    "            self.result=self.result+i\n",
    "        return self.result\n",
    "D1=DemoOverload()\n",
    "print(D1.add('int',10,20,30))\n",
    "print(D1.add('str', 'India ','is ','Great'))\n"
   ]
  },
  {
   "cell_type": "code",
   "execution_count": 4,
   "id": "27b38f1d-26f0-4642-9c91-49afc3f382d0",
   "metadata": {},
   "outputs": [
    {
     "name": "stdout",
     "output_type": "stream",
     "text": [
      "I am in B\n",
      "I am in A\n"
     ]
    }
   ],
   "source": [
    "# Inheritance is one of the most useful and essential characteristics of object-oriented programming. \n",
    "# The existing classes are main components of inheritance. The new classes are created from existing one.  \n",
    "# The properties of existing classes are simply extended to the new classes. \n",
    "# The new classes created using such method are known as derived classes or sub class and the existing \n",
    "# classes are known as base class or super class.\n",
    "#-----------------------------------------------------------------------------------------------------\n",
    "# EXAMPLE SINGLE INHERITANCE\n",
    "# ----------------------------------------------------------------------------------------------------\n",
    "class A:\n",
    "    def Message1(self):\n",
    "        print('I am in A')\n",
    "\n",
    "class B(A):\n",
    "    def Message2(self):\n",
    "        print('I am in B')\n",
    "        \n",
    "D1 = B()\n",
    "D1.Message2()\n",
    "D1.Message1()\n",
    "\n"
   ]
  },
  {
   "cell_type": "code",
   "execution_count": 5,
   "id": "eaf64c68-ddfe-448c-be2f-b4c61fd3533f",
   "metadata": {},
   "outputs": [
    {
     "name": "stdout",
     "output_type": "stream",
     "text": [
      "I am in C\n",
      "I am in B\n",
      "I am in A\n"
     ]
    }
   ],
   "source": [
    "#-----------------------------------------------------------------------------------------------------\n",
    "# EXAMPLE MULTIPLE-LEVEL INHERITANCE     A->B->C\n",
    "# ----------------------------------------------------------------------------------------------------\n",
    "class A:\n",
    "    def Message1(self):\n",
    "        print('I am in A')\n",
    "\n",
    "class B(A):\n",
    "    def Message2(self):\n",
    "        print('I am in B')\n",
    "        \n",
    "class C(B):\n",
    "    def Message3(self):\n",
    "        print('I am in C')   \n",
    "\n",
    "D1 = C()\n",
    "D1.Message3()\n",
    "D1.Message2()\n",
    "D1.Message1()\n"
   ]
  },
  {
   "cell_type": "code",
   "execution_count": 6,
   "id": "76e451c6-9af4-4898-89ca-3de646d93095",
   "metadata": {},
   "outputs": [
    {
     "name": "stdout",
     "output_type": "stream",
     "text": [
      "I am in B\n",
      "I am in A\n",
      "I am in C\n",
      "I am in A\n"
     ]
    }
   ],
   "source": [
    "#-----------------------------------------------------------------------------------------------------\n",
    "# EXAMPLE HIERARCHICAL INHERITANCE     A->B   A->C                                      \n",
    "# ----------------------------------------------------------------------------------------------------\n",
    "class A:\n",
    "    def Message1(self):\n",
    "        print('I am in A')\n",
    "\n",
    "class B(A):\n",
    "    def Message2(self):\n",
    "        print('I am in B')\n",
    "\n",
    "class C(A):\n",
    "    def Message3(self):\n",
    "        print('I am in C')\n",
    "        \n",
    "D1 = B()\n",
    "D1.Message2()\n",
    "D1.Message1()\n",
    "\n",
    "D2 = C()\n",
    "D2.Message3()\n",
    "D2.Message1()\n"
   ]
  },
  {
   "cell_type": "code",
   "execution_count": null,
   "id": "88dda0c1-a0b7-4809-a643-469a25dc6c97",
   "metadata": {},
   "outputs": [],
   "source": [
    "#-----------------------------------------------------------------------------------------------------\n",
    "# EXAMPLE HIERARCHICAL INHERITANCE     A->B   A->C                                      \n",
    "# ----------------------------------------------------------------------------------------------------\n",
    "class A:\n",
    "    def Message1(self):\n",
    "        print('I am in A')\n",
    "\n",
    "class B:\n",
    "    def Message2(self):\n",
    "        print('I am in B')\n",
    "        \n",
    "class C(A,B):\n",
    "    def Message3(self):\n",
    "        print('I am in C')   \n",
    "\n",
    "D1 = C()\n",
    "D1.Message3()\n",
    "D1.Message2()\n",
    "D1.Message1()\n"
   ]
  },
  {
   "cell_type": "code",
   "execution_count": 7,
   "id": "9aec838c-b016-48c6-8f1b-186b277370a5",
   "metadata": {},
   "outputs": [
    {
     "name": "stdout",
     "output_type": "stream",
     "text": [
      "I am in C\n",
      "I am in B\n",
      "I am in A\n"
     ]
    }
   ],
   "source": [
    "#-----------------------------------------------------------------------------------------------------\n",
    "# EXAMPLE MULTIPLE INHERITANCE     A  B   C-> A,B                                      \n",
    "# ----------------------------------------------------------------------------------------------------\n",
    "class A:\n",
    "    def Message1(self):\n",
    "        print('I am in A')\n",
    "\n",
    "class B:\n",
    "    def Message2(self):\n",
    "        print('I am in B')\n",
    "        \n",
    "class C(A,B):\n",
    "    def Message3(self):\n",
    "        print('I am in C')   \n",
    "\n",
    "D1 = C()\n",
    "D1.Message3()\n",
    "D1.Message2()\n",
    "D1.Message1()\n",
    "\n"
   ]
  },
  {
   "cell_type": "code",
   "execution_count": null,
   "id": "090c34b9-dcc0-419c-a2d4-d5392b2fcf7e",
   "metadata": {},
   "outputs": [],
   "source": []
  }
 ],
 "metadata": {
  "kernelspec": {
   "display_name": "Python 3 (ipykernel)",
   "language": "python",
   "name": "python3"
  },
  "language_info": {
   "codemirror_mode": {
    "name": "ipython",
    "version": 3
   },
   "file_extension": ".py",
   "mimetype": "text/x-python",
   "name": "python",
   "nbconvert_exporter": "python",
   "pygments_lexer": "ipython3",
   "version": "3.11.5"
  }
 },
 "nbformat": 4,
 "nbformat_minor": 5
}
