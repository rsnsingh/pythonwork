{
 "cells": [
  {
   "cell_type": "code",
   "execution_count": 1,
   "id": "f16a1b7f-f8ff-41ba-9b93-65a3e0f04618",
   "metadata": {},
   "outputs": [
    {
     "name": "stdin",
     "output_type": "stream",
     "text": [
      "Enter Radius of Circle  5\n"
     ]
    },
    {
     "name": "stdout",
     "output_type": "stream",
     "text": [
      "Area of Circle is  157.08\n"
     ]
    }
   ],
   "source": [
    "# Modules are files containing Python definitions and statements. \n",
    "# A module is essentially a Python file with a .py  extension\n",
    "# A module’s definitions can be imported into other modules by using “import name”\n",
    "# The module’s name is available as a global variable value\n",
    "# To access a module’s functions, type “name.function()”   \n",
    "# if  module name is math and function name is sqrt() then it is accessed as  “math.sqrt(4)”\n",
    "# Modules can also import other modules\n",
    "# ========================USAGE=========================================\n",
    "# You can import a module using  \n",
    "# import <module-name>\n",
    "# and access the contents using\n",
    "# <module-name>.<entity-name>\n",
    "# You can also access entities directly\n",
    "# from <module-name> import <entity-name> \n",
    "\n",
    "# import math\n",
    "# print(math.pi)\n",
    "# or\n",
    "# from math import pi\n",
    "# print(pi)\n",
    "# ================EXAMPLE============================================\n",
    "# Find area of a circle by using builtin math module\n",
    "# ===================================================================\n",
    "from math import pi\n",
    "r=int(input(\"Enter Radius of Circle \"))\n",
    "area = 2 * pi * r * r\n",
    "print(\"Area of Circle is \", round(area,2)) \n",
    "\n"
   ]
  },
  {
   "cell_type": "code",
   "execution_count": 2,
   "id": "02f3cc04-586c-4906-92fe-663e0ddcc7d4",
   "metadata": {},
   "outputs": [
    {
     "name": "stdout",
     "output_type": "stream",
     "text": [
      "3\n"
     ]
    }
   ],
   "source": [
    "# Example: Create the following and save it as  example.py\n",
    "# def add(x,y):  \n",
    "# return x+y\n",
    "# Now, in another Python file, call the add()  function using the following:\n",
    "\n",
    "import example\n",
    "print(example.add(1,2))\n"
   ]
  },
  {
   "cell_type": "code",
   "execution_count": 6,
   "id": "b0b3f3a7-e1e9-4dba-a7cc-a777f57ac439",
   "metadata": {},
   "outputs": [
    {
     "name": "stdout",
     "output_type": "stream",
     "text": [
      "26\n"
     ]
    }
   ],
   "source": [
    "# Save this code in the file mymodule.py\n",
    "# person1 = {\n",
    "#   \"name\": \"Harinder\",\n",
    "#   \"age\": 26,\n",
    "#   \"country\": \"India\"\n",
    "# }\n",
    "# ============================================\n",
    "# Import the module named mymodule, and access the person1 dictionary:\n",
    "\n",
    "import mymodule\n",
    "a = mymodule.person1[\"age\"]\n",
    "print(a)"
   ]
  },
  {
   "cell_type": "code",
   "execution_count": 9,
   "id": "2284e418-4c12-47e2-83a6-3956bd92c6cc",
   "metadata": {},
   "outputs": [
    {
     "data": {
      "text/plain": [
       "[0, 1, 1, 2, 3, 5, 8, 13, 21, 34, 55, 89]"
      ]
     },
     "execution_count": 9,
     "metadata": {},
     "output_type": "execute_result"
    }
   ],
   "source": [
    "# Module to return fibonacci series\n",
    "# Save the belo code in fibo.py\n",
    "# def fib2(n):   \n",
    "#    result = []\n",
    "#    a, b = 0, 1\n",
    "#    while a < n:\n",
    "#        result.append(a)\n",
    "#        a, b = b, a+b\n",
    "#    return result\n",
    "#==========================================\n",
    "import fibo\n",
    "fibo.fib2(100)"
   ]
  },
  {
   "cell_type": "code",
   "execution_count": null,
   "id": "e318be46-ab02-4d56-8475-b256d1c26ac8",
   "metadata": {},
   "outputs": [],
   "source": [
    "# Assignment\n",
    "# 1) Create a module that simulates a calculator\n",
    "# 2) Create a module that finds if a number is prime or not\n",
    "# 3) Create a module that converts a number to UPPER case\n"
   ]
  }
 ],
 "metadata": {
  "kernelspec": {
   "display_name": "Python 3 (ipykernel)",
   "language": "python",
   "name": "python3"
  },
  "language_info": {
   "codemirror_mode": {
    "name": "ipython",
    "version": 3
   },
   "file_extension": ".py",
   "mimetype": "text/x-python",
   "name": "python",
   "nbconvert_exporter": "python",
   "pygments_lexer": "ipython3",
   "version": "3.11.5"
  }
 },
 "nbformat": 4,
 "nbformat_minor": 5
}
