{
 "cells": [
  {
   "cell_type": "code",
   "execution_count": 2,
   "id": "2dee7393-5941-4a07-a8c3-16a09aa3cf6f",
   "metadata": {},
   "outputs": [],
   "source": [
    "# Open the file and associate the file with a file variable (file is “locked” for writing).\n",
    "# A command to write the information.\n",
    "# A command to close the file.\n",
    "# =============================================================\n",
    "# WRITE to a text file \n",
    "#==============================================================\n",
    "def createfile():\n",
    "    obj1=open('demo.txt','w')\n",
    "    obj1.write('hello how are you ?\\n')\n",
    "    obj1.write('Welcome to file handling section of Python \\n')\n",
    "    obj1.write('Enjoy the session !!')\n",
    "    obj1.close()\n",
    "createfile()\n",
    "\n",
    "# File demo.txt created \n",
    "hello how are you ?\n",
    "Welcome to file handling section of Python \n",
    "Enjoy the session !!"
   ]
  },
  {
   "cell_type": "code",
   "execution_count": 4,
   "id": "5f1fcec3-8d94-4825-8a15-47554ed2d0aa",
   "metadata": {},
   "outputs": [
    {
     "name": "stdin",
     "output_type": "stream",
     "text": [
      "Enter the file name in which you want to write ?  demo.txt\n"
     ]
    }
   ],
   "source": [
    "# Write a program to write Numbers to file \n",
    "# ========================================\n",
    "def writenumber():\n",
    "    filename=input(\"Enter the file name in which you want to write ? \")\n",
    "    obj1=open(filename,'w')\n",
    "    for x in range(1,20):\n",
    "            obj1.write(str(x)+\" \")\n",
    "            obj1.write(\" \")\n",
    "    obj1.close()\n",
    "    \n",
    "writenumber()\n",
    "\n",
    "#========== Numbers written to demo.txt file ============\n",
    "# 1  2  3  4  5  6  7  8  9  10  11  12  13  14  15  16  17  18  19  "
   ]
  },
  {
   "cell_type": "code",
   "execution_count": 5,
   "id": "c7720821-f464-4689-846f-c2cc8dd73bc0",
   "metadata": {},
   "outputs": [
    {
     "name": "stdin",
     "output_type": "stream",
     "text": [
      "Enter the file name in which you want to write ?  abc.txt\n"
     ]
    }
   ],
   "source": [
    "# Write a program to write Random Numbers to file \n",
    "# ===============================================\n",
    "from random import randint\n",
    "def main():\n",
    "    filename=input(\"Enter the file name in which you want to write ? \")\n",
    "    obj1=open(filename,'w')\n",
    "    for x in range(11):\n",
    "            x=randint(500,1000)\n",
    "            obj1.write(str(x)+\" \")\n",
    "    obj1.close()\n",
    "main()\n",
    "\n",
    "# ======== random numbers writen to file abc.txt =======\n",
    "# 569 603 815 835 581 780 665 891 643 598 938 "
   ]
  },
  {
   "cell_type": "code",
   "execution_count": 6,
   "id": "3d73a18d-1daa-4948-8104-138b27acc5d1",
   "metadata": {},
   "outputs": [
    {
     "name": "stdin",
     "output_type": "stream",
     "text": [
      "Enter the file name from where you want to read ?  data1.txt\n"
     ]
    },
    {
     "name": "stdout",
     "output_type": "stream",
     "text": [
      "Suzy ID 123 worked 31.50 hours:  6.30 / day\n",
      "Brad ID 456 worked 36.80 hours:  7.36 / day\n",
      "Jenn ID 789 worked 39.50 hours:  7.90 / day\n"
     ]
    }
   ],
   "source": [
    "# Reading data from a file \n",
    "# ========================\n",
    "filename=input(\"Enter the file name from where you want to read ? \")\n",
    "input1 = open(filename)\n",
    "for line in input1:\n",
    "    id, name, mon, tue, wed, thu, fri = line.split()\n",
    "    # cumulative sum of this employee's hours\n",
    "    hours = float(mon) + float(tue) + float(wed) + \\\n",
    "            float(thu) + float(fri)\n",
    "    \n",
    "    print(name, \"ID\", id, \"worked\", \\\n",
    "    format(hours, '0.2f'), \"hours: \", format(hours/5, '0.2f'), \"/ day\")\n",
    "\n",
    "# =================data1.txt========================\n",
    "# 123 Suzy 9.5 8.1 7.6 3.1 3.2\n",
    "# 456 Brad 7.0 9.6 6.5 4.9 8.8\n",
    "# 789 Jenn 8.0 8.0 8.0 8.0 7.5"
   ]
  },
  {
   "cell_type": "code",
   "execution_count": 8,
   "id": "dfa5c391-bc97-45c1-938d-4b8615f49651",
   "metadata": {},
   "outputs": [
    {
     "name": "stdout",
     "output_type": "stream",
     "text": [
      "1\n",
      "2\n",
      "3\n",
      "4\n",
      "5\n",
      "6\n",
      "7\n",
      "8\n",
      "9\n",
      "10\n"
     ]
    }
   ],
   "source": [
    "# Reading text from a file\n",
    "# ===================================================\n",
    "fp=open('num.txt','r')\n",
    "text=fp.read()\n",
    "print(text)\n"
   ]
  },
  {
   "cell_type": "code",
   "execution_count": 11,
   "id": "4c83022f-d6d4-4c4d-93a4-f9843a37e4e4",
   "metadata": {},
   "outputs": [
    {
     "name": "stdout",
     "output_type": "stream",
     "text": [
      "1\n",
      "2\n",
      "3\n",
      "4\n",
      "5\n",
      "6\n",
      "7\n",
      "8\n",
      "9\n",
      "10\n",
      "sum of all numbers \n",
      "55\n"
     ]
    }
   ],
   "source": [
    "# Write a program to read from a file and find the sum of numbers \n",
    "# ================================================================\n",
    "fp=open('num.txt','r')\n",
    "sum=0\n",
    "for i in range(10):\n",
    "    num1=int(fp.readline())\n",
    "    print(num1)\n",
    "    sum+=num1\n",
    "print('sum of all numbers ')\n",
    "print(sum)\n"
   ]
  },
  {
   "cell_type": "code",
   "execution_count": 15,
   "id": "81c7a03d-8aa3-411d-9bd4-ba820879e0a5",
   "metadata": {},
   "outputs": [],
   "source": [
    "# Write a program to append the data in a file\n",
    "# Append mode ‘a’ is used to append data to the end of existing file.\n",
    "# ===================================================================\n",
    "fp1=open('num.txt','a')\n",
    "fp1.write('11')\n",
    "fp1.write('12')\n",
    "fp1.close()\n"
   ]
  },
  {
   "cell_type": "code",
   "execution_count": null,
   "id": "59a98043-402c-4f51-bace-a36c149871f8",
   "metadata": {},
   "outputs": [],
   "source": []
  }
 ],
 "metadata": {
  "kernelspec": {
   "display_name": "Python 3 (ipykernel)",
   "language": "python",
   "name": "python3"
  },
  "language_info": {
   "codemirror_mode": {
    "name": "ipython",
    "version": 3
   },
   "file_extension": ".py",
   "mimetype": "text/x-python",
   "name": "python",
   "nbconvert_exporter": "python",
   "pygments_lexer": "ipython3",
   "version": "3.11.4"
  }
 },
 "nbformat": 4,
 "nbformat_minor": 5
}
