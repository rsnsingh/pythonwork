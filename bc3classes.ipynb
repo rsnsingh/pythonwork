{
 "cells": [
  {
   "cell_type": "code",
   "execution_count": 1,
   "id": "027d5b1e-69f9-47ff-9bbb-9aaec9bf619f",
   "metadata": {},
   "outputs": [
    {
     "name": "stdout",
     "output_type": "stream",
     "text": [
      " Welcome to Classes\n",
      "<__main__.MyFirstClassProgram object at 0x000001FC887C7710>\n"
     ]
    }
   ],
   "source": [
    "# The class is just another name for type in python. \n",
    "# The class may contain data in the form of fields. \n",
    "# Fields are also called as attributes and code in the form of procedure known as methods.  \n",
    "# STRUCTURE OF A CLASS\n",
    "#---------------------------\n",
    "# class Class_Name:\n",
    "#    Initializer\n",
    "#    attributes\n",
    "#    methods()\n",
    "#       statements\n",
    "#----------------------Example ---------------------\n",
    "class MyFirstClassProgram:\n",
    "    print(' Welcome to Classes')\n",
    "C=MyFirstClassProgram()    #Instance of class\n",
    "print(C)\n"
   ]
  },
  {
   "cell_type": "code",
   "execution_count": 2,
   "id": "6e6a9322-a48f-411d-850d-ef8e2738c7ba",
   "metadata": {},
   "outputs": [
    {
     "name": "stdout",
     "output_type": "stream",
     "text": [
      "Initial values of Attribute\n",
      "Length   =  0\n",
      "Breadth  =  0\n",
      "Area of Rectangle =  0\n",
      "After reassigning the value of attributes\n",
      "Length =  20\n",
      "Breadth =  30\n",
      "Area of Rectangle is  600\n"
     ]
    }
   ],
   "source": [
    "# ===============================================================\n",
    "'''Adding attribute to the class\n",
    "The syntax to add attribute to the class is as follows \n",
    "     class class_name:\n",
    "           attribute_name = value \n",
    "           …………………………………………………………\n",
    "Accessing attributes of a class \n",
    "The following syntax is used to access attributes of  a class \n",
    "           <object>.<attribute>\n",
    "\n",
    "Assigning values to an  attributes outside the class \n",
    "         <object>.attribute = Value    '''\n",
    "#-------------Example-------------------------------------\n",
    "class Rectangle:\n",
    "    length=0;         #Attribute  length\n",
    "    breadth=0;        #Attribute  breadth\n",
    "R1 = Rectangle ()     #Instance of a class\n",
    "print('Initial values of Attribute')\n",
    "print('Length   = ',R1.length)      #Access attribute length    \n",
    "print('Breadth  = ',R1.breadth)     #Access attribute breadth\n",
    "print('Area of Rectangle = ',R1.length * R1.breadth )\n",
    "R1.length   =  20   #Assign value to attribute length\n",
    "R1.breadth  =  30   #Assign  value to attribute breadth \n",
    "print('After reassigning the value of attributes')\n",
    "print('Length = ',R1.length )\n",
    "print('Breadth = ',R1.breadth ) \n",
    "print('Area of Rectangle is ',R1.length * R1.breadth) \n",
    "\n"
   ]
  },
  {
   "cell_type": "code",
   "execution_count": 1,
   "id": "d1417991-c301-4f8d-b306-af55be18e691",
   "metadata": {},
   "outputs": [
    {
     "name": "stdout",
     "output_type": "stream",
     "text": [
      "Hello,  Learn  Adding Methods\n"
     ]
    }
   ],
   "source": [
    "# Class consist of two things i.e. instance variable and instance methods.\n",
    "# The syntax  to  add methods to the class is  follows\n",
    "\n",
    "#   class Class_Name:\n",
    "#      instance variable;  #instance variable with initialization \n",
    "#      def mthod_name(self,param_list):#Parameter List is Optional\n",
    "#\t\tblock_of_statements \n",
    "# The first parameter for each method should be self  if method exist within the class. \n",
    "# The self parameter references the object itself. \n",
    "#--------------------------------------------------------------------------------\n",
    "# Program to  create method Display_Message() display message  “Hello,  Learn  Adding Methods” within the methods. \n",
    "#-----------------------------------------------------------------------------------\n",
    "class Demo:\n",
    "    def Display_Message(self):\n",
    "        print('Hello,  Learn  Adding Methods')\n",
    "\n",
    "D1 = Demo()\n",
    "D1.Display_Message()\n"
   ]
  },
  {
   "cell_type": "code",
   "execution_count": 4,
   "id": "0c77b8a9-182c-4d84-9be3-efc6cda68fbe",
   "metadata": {},
   "outputs": [
    {
     "name": "stdout",
     "output_type": "stream",
     "text": [
      "radius= 5\n",
      " The area of Circle is  78.53981633974483\n"
     ]
    }
   ],
   "source": [
    "# Write a program to calculate area of circle\n",
    "import math\n",
    "class Circle:\n",
    "    def calc_area(self,radius):\n",
    "        print('radius=', radius)\n",
    "        return math.pi*radius**2\n",
    "C1=Circle()\n",
    "print(' The area of Circle is ',C1.calc_area(5))\n"
   ]
  },
  {
   "cell_type": "code",
   "execution_count": 6,
   "id": "f89b5604-f9ab-4efd-bf69-6a2a598976a6",
   "metadata": {},
   "outputs": [
    {
     "name": "stdout",
     "output_type": "stream",
     "text": [
      "length=  4\n",
      "breadth=  5\n",
      "The area of rectangle is  20\n"
     ]
    }
   ],
   "source": [
    "# Write a program to calculate area of rectangle\n",
    "import math\n",
    "class rectangle:\n",
    "    def calc_area(self,length,breadth):\n",
    "        print('length= ', length)\n",
    "        print('breadth= ', breadth)\n",
    "        return length*breadth\n",
    "C1=rectangle()\n",
    "print('The area of rectangle is ',C1.calc_area(4,5))\n"
   ]
  },
  {
   "cell_type": "code",
   "execution_count": 7,
   "id": "560c1812-534a-4b9f-a701-733af344ce77",
   "metadata": {},
   "outputs": [
    {
     "name": "stdout",
     "output_type": "stream",
     "text": [
      "value of local variable x is =  30\n",
      "value of instance variable x is =  5\n"
     ]
    }
   ],
   "source": [
    "# Self parameter with instance variable\n",
    "# self is used to differentiate between instance and local variable.\n",
    "# e.g x displays the value of local variable and self.x displays the value of instance variable\n",
    "#---------------EXAMPLE---------------------------------------\n",
    "class prac:\n",
    "    x=5     # instance variable\n",
    "    def display(self,x):\n",
    "        x=30      # local variable\n",
    "        print('value of local variable x is = ', x)\n",
    "        print('value of instance variable x is = ', self.x)\n",
    "ob=prac()\n",
    "ob.display(50)\n",
    "\n"
   ]
  },
  {
   "cell_type": "code",
   "execution_count": 9,
   "id": "32bc7302-9446-492d-9608-4a9b440f639a",
   "metadata": {},
   "outputs": [
    {
     "name": "stdout",
     "output_type": "stream",
     "text": [
      "In method_B calling method_A\n",
      "In method A\n",
      "We got a call from A\n"
     ]
    }
   ],
   "source": [
    "# Self parameter with method\n",
    "# self is used within methods to call another method from the same class.\n",
    "#---------------------EXAMPLE---------------------------------------\n",
    "class self_demo:\n",
    "    def method_A(self):\n",
    "        print('In method A')\n",
    "        print('We got a call from A')\n",
    "    def method_B(self):\n",
    "        print('In method_B calling method_A')\n",
    "        self.method_A()\n",
    "ob=self_demo()\n",
    "ob.method_B()\n"
   ]
  },
  {
   "cell_type": "code",
   "execution_count": 10,
   "id": "1f22152e-a74b-4dbc-8008-edcfc5f676a8",
   "metadata": {},
   "outputs": [
    {
     "name": "stdin",
     "output_type": "stream",
     "text": [
      "enter Name:  GNIMT College\n"
     ]
    },
    {
     "name": "stdout",
     "output_type": "stream",
     "text": [
      "Name=  GNIMT College\n"
     ]
    },
    {
     "name": "stdin",
     "output_type": "stream",
     "text": [
      "enter Age:  25\n"
     ]
    },
    {
     "name": "stdout",
     "output_type": "stream",
     "text": [
      "Age=  25\n"
     ]
    }
   ],
   "source": [
    "# Display class attribute and methods\n",
    "# By using dir(), attributes of class can be displayed  \n",
    "#--------------EXAMPLE------------------------------\n",
    "class Displaydemo:\n",
    "    Name=' ';\n",
    "    Age= ' ';\n",
    "    def read(self):\n",
    "        Name=input('enter Name: ')\n",
    "        print('Name= ', Name)\n",
    "        Age=input('enter Age: ')\n",
    "        print('Age= ', Age)\n",
    "C1=Displaydemo()\n",
    "C1.read() \n"
   ]
  },
  {
   "cell_type": "code",
   "execution_count": 11,
   "id": "b2704bdf-a004-4f06-aee9-de270670002f",
   "metadata": {},
   "outputs": [
    {
     "name": "stdout",
     "output_type": "stream",
     "text": [
      " The area of Circle is  50.24\n"
     ]
    }
   ],
   "source": [
    "# The __init__ method (Constructor) \n",
    "# The __init__ method is known as an initializer. \n",
    "# It is a special method that is used to initialize instance variable of an object. \n",
    "# This method run as soon as an object of a class is instantiated. \n",
    "# a) __init__ method must have self as first argument.\n",
    "# b)  As self  refers to the object itself. \n",
    "# Therefore   it refers to the object that invokes the method. \n",
    "# -------------------EXAMPLE---------------------------------------------\n",
    "# Write a program to initialise the value of attributes  to calculate \n",
    "# area of circle by making use of  __init__ method. \n",
    "# -----------------------------------------------------------------------\n",
    "class Circle:\n",
    "    pi=0;\n",
    "    radius=0\n",
    "    def __init__(self,s): \n",
    "        self.pi = 3.14\n",
    "        self.radius=s\n",
    "    def calc_area(self):\n",
    "        return self.pi*self.radius**2\n",
    "C1=Circle(4)\n",
    "print(' The area of Circle is ',C1.calc_area())\n",
    "\n"
   ]
  },
  {
   "cell_type": "code",
   "execution_count": null,
   "id": "2522b8ca-b963-48ab-945d-abc33a9b16aa",
   "metadata": {},
   "outputs": [],
   "source": []
  }
 ],
 "metadata": {
  "kernelspec": {
   "display_name": "Python 3 (ipykernel)",
   "language": "python",
   "name": "python3"
  },
  "language_info": {
   "codemirror_mode": {
    "name": "ipython",
    "version": 3
   },
   "file_extension": ".py",
   "mimetype": "text/x-python",
   "name": "python",
   "nbconvert_exporter": "python",
   "pygments_lexer": "ipython3",
   "version": "3.11.5"
  }
 },
 "nbformat": 4,
 "nbformat_minor": 5
}
