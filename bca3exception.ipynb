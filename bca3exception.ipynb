{
 "cells": [
  {
   "cell_type": "code",
   "execution_count": 1,
   "id": "3b106c2a-d354-498b-9f25-cddd02ae2a35",
   "metadata": {},
   "outputs": [
    {
     "ename": "ZeroDivisionError",
     "evalue": "division by zero",
     "output_type": "error",
     "traceback": [
      "\u001b[1;31m---------------------------------------------------------------------------\u001b[0m",
      "\u001b[1;31mZeroDivisionError\u001b[0m                         Traceback (most recent call last)",
      "Cell \u001b[1;32mIn[1], line 9\u001b[0m\n\u001b[0;32m      7\u001b[0m a\u001b[38;5;241m=\u001b[39m\u001b[38;5;241m10\u001b[39m\n\u001b[0;32m      8\u001b[0m b\u001b[38;5;241m=\u001b[39m\u001b[38;5;241m0\u001b[39m\n\u001b[1;32m----> 9\u001b[0m result \u001b[38;5;241m=\u001b[39m \u001b[43ma\u001b[49m\u001b[38;5;241;43m/\u001b[39;49m\u001b[43mb\u001b[49m\n",
      "\u001b[1;31mZeroDivisionError\u001b[0m: division by zero"
     ]
    }
   ],
   "source": [
    "# Errors can also occur at runtime and these are called  exceptions.\n",
    "# They occur, for example, when a file we try to open  does not exist (FileNotFoundError), \n",
    "# dividing a  number by zero (ZeroDivisionError)\n",
    "# Whenever these type of runtime error occur, Python  creates an exception object. \n",
    "# If not handled properly, it  prints a traceback to that error along with some  details about why that error occurred.\n",
    "# ====================================================================\n",
    "a=10\n",
    "b=0\n",
    "result = a/b\n"
   ]
  },
  {
   "cell_type": "code",
   "execution_count": 2,
   "id": "188fc9ae-acf1-486c-9fa6-ac18c40a8f13",
   "metadata": {},
   "outputs": [
    {
     "name": "stdin",
     "output_type": "stream",
     "text": [
      "Enter value a  23\n",
      "Enter value b  0\n"
     ]
    },
    {
     "name": "stdout",
     "output_type": "stream",
     "text": [
      "Exception occured ......Divide by Zero\n"
     ]
    }
   ],
   "source": [
    "# To handle exceptions, and to call code when  an exception occurs, we can use a  try/except statement.\n",
    "# The try block contains code that might  throw an exception.\n",
    "# If that exception occurs, the code in the try  block stops being executed, and the code in  the except block is executed.\n",
    "# If no error occurs, the code in the except block doesn't execute.\n",
    "# ==================================================================\n",
    "a=int(input(\"Enter value a \"))\n",
    "b=int(input(\"Enter value b \"))\n",
    "try:\n",
    "    result = a/b   # if NO error, rtesult is printed \n",
    "    print(\" The result is \", result)\n",
    "except:            # if ERROR then exception block is executed \n",
    "    print(\"Exception occured ......Divide by Zero\")\n",
    "    "
   ]
  },
  {
   "cell_type": "code",
   "execution_count": 2,
   "id": "370be721-0adb-4979-9e2f-f50d11511403",
   "metadata": {},
   "outputs": [
    {
     "name": "stdin",
     "output_type": "stream",
     "text": [
      "Enter value a  4A\n"
     ]
    },
    {
     "name": "stdout",
     "output_type": "stream",
     "text": [
      "Exception Occured ..... Invalid Input\n"
     ]
    }
   ],
   "source": [
    "# NESTED Try Catch block\n",
    "try:\n",
    "    a=int(input(\"Enter value a \"))\n",
    "    b=int(input(\"Enter value b \"))\n",
    "    try:\n",
    "        result = a/b   # if NO error, rtesult is printed \n",
    "        print(\" The result is \", result)\n",
    "    except:            # if ERROR then exception block is executed \n",
    "        print(\"Exception occured ......Divide by Zero\")\n",
    "except:\n",
    "    print(\"Exception Occured ..... Invalid Input\")"
   ]
  },
  {
   "cell_type": "code",
   "execution_count": 4,
   "id": "d8aa22c0-9992-430f-a6d7-a24bd120a5ea",
   "metadata": {},
   "outputs": [
    {
     "name": "stdin",
     "output_type": "stream",
     "text": [
      "Enter value a  45\n",
      "Enter value b  0\n"
     ]
    },
    {
     "name": "stdout",
     "output_type": "stream",
     "text": [
      "Exception occured ...... <class 'ZeroDivisionError'>\n"
     ]
    }
   ],
   "source": [
    "# Program to find the Type of exception Occured\n",
    "import sys\n",
    "a=int(input(\"Enter value a \"))\n",
    "b=int(input(\"Enter value b \"))\n",
    "try:\n",
    "    result = a/b   # if NO error, rtesult is printed \n",
    "    print(\" The result is \", result)\n",
    "except:            # if ERROR then exception block is executed \n",
    "    print(\"Exception occured ......\", sys.exc_info()[0])\n"
   ]
  },
  {
   "cell_type": "code",
   "execution_count": 9,
   "id": "18c87636-4b45-42fa-bbf2-f6a63280c0c0",
   "metadata": {},
   "outputs": [
    {
     "name": "stdin",
     "output_type": "stream",
     "text": [
      "Enter value a  6yu\n"
     ]
    },
    {
     "name": "stdout",
     "output_type": "stream",
     "text": [
      "Exception .....Invalid Input\n"
     ]
    }
   ],
   "source": [
    "# Multiple Exceptions for a single try block\n",
    "# ------------------------------------------\n",
    "try:\n",
    "    a=int(input(\"Enter value a \"))\n",
    "    b=int(input(\"Enter value b \"))\n",
    "    result = a/b    \n",
    "    print(\" The result is \", result)\n",
    "except ValueError: \n",
    "    print(\"Exception .....Invalid Input\")\n",
    "except ZeroDivisionError:    \n",
    "    print(\"Exception .....Divide by Zero\")"
   ]
  },
  {
   "cell_type": "code",
   "execution_count": 10,
   "id": "d592f101-d990-4039-ad41-f22add2563ac",
   "metadata": {},
   "outputs": [
    {
     "name": "stdin",
     "output_type": "stream",
     "text": [
      "Enter number a  45\n",
      "Enter number b  5\n"
     ]
    },
    {
     "name": "stdout",
     "output_type": "stream",
     "text": [
      "Exception .....Invalid Input <class 'TypeError'>\n"
     ]
    }
   ],
   "source": [
    "# Multiple Exceptions \n",
    "# ------------------------------------------\n",
    "import sys\n",
    "try:\n",
    "    a=input(\"Enter number a \")\n",
    "    b=input(\"Enter number b \")\n",
    "    a=int(a)\n",
    "    sum = a+b\n",
    "    print('Sum = ',sum)\n",
    "    quotient = a//b\n",
    "    print('quotient = ', quotient)\n",
    "except(ValueError,TypeError): \n",
    "    print(\"Exception .....Invalid Input\",sys.exc_info()[0])\n",
    "except ZeroDivisionError:    \n",
    "    print(\"Exception .....Divide by Zero\")\n",
    "    "
   ]
  },
  {
   "cell_type": "code",
   "execution_count": null,
   "id": "92d293fd-ce5b-425b-888b-73b8c41f46f4",
   "metadata": {},
   "outputs": [],
   "source": []
  }
 ],
 "metadata": {
  "kernelspec": {
   "display_name": "Python 3 (ipykernel)",
   "language": "python",
   "name": "python3"
  },
  "language_info": {
   "codemirror_mode": {
    "name": "ipython",
    "version": 3
   },
   "file_extension": ".py",
   "mimetype": "text/x-python",
   "name": "python",
   "nbconvert_exporter": "python",
   "pygments_lexer": "ipython3",
   "version": "3.11.5"
  }
 },
 "nbformat": 4,
 "nbformat_minor": 5
}
