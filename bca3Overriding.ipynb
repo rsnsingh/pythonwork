{
 "cells": [
  {
   "cell_type": "code",
   "execution_count": 1,
   "id": "2c718908-5389-4030-927d-0e72cbaa087c",
   "metadata": {},
   "outputs": [
    {
     "name": "stdout",
     "output_type": "stream",
     "text": [
      "I am in B\n"
     ]
    }
   ],
   "source": [
    "# Method Overriding : When a method in sub class has same name and header as that of super class, \n",
    "# then method in sub class is said to override the method in the super class.\n",
    "# ===============================================================================\n",
    "class A:\n",
    "    def Message(self):\n",
    "        print('I am in A')\n",
    "\n",
    "class B(A):\n",
    "    def Message(self):\n",
    "        print('I am in B')\n",
    "        \n",
    "D1 = B()\n",
    "D1.Message() \n"
   ]
  },
  {
   "cell_type": "code",
   "execution_count": 4,
   "id": "9936875f-9a4b-48e6-9d73-631c5382a013",
   "metadata": {},
   "outputs": [
    {
     "name": "stdout",
     "output_type": "stream",
     "text": [
      "I am in Super class A\n",
      "I am in Sub class B\n"
     ]
    }
   ],
   "source": [
    "# Method overriding using super()\n",
    "# ===============================\n",
    "class A:\n",
    "    def Message(self):\n",
    "        print('I am in Super class A')\n",
    "\n",
    "class B(A):\n",
    "    def Message(self):\n",
    "       super().Message()# call to base class method\n",
    "       print('I am in Sub class B')\n",
    "        \n",
    "D1 = B()\n",
    "D1.Message()  \n"
   ]
  },
  {
   "cell_type": "code",
   "execution_count": 5,
   "id": "9ad0c6d7-cdc7-4967-8add-4ad838ca30f9",
   "metadata": {},
   "outputs": [
    {
     "name": "stdout",
     "output_type": "stream",
     "text": [
      "I am in A\n",
      "I am in B\n",
      "I am in C\n"
     ]
    }
   ],
   "source": [
    "# Method overriding in Multiple Inheritance\n",
    "class A:\n",
    "    def Message(self):\n",
    "        print('I am in A')\n",
    "\n",
    "class B:\n",
    "    def Message(self):\n",
    "         print('I am in B')\n",
    "        \n",
    "class C(A,B):\n",
    "    def Message(self):\n",
    "        A.Message(self)\n",
    "        B.Message(self)\n",
    "        print('I am in C')   \n",
    "\n",
    "D1 = C()\n",
    "D1.Message()\n"
   ]
  },
  {
   "cell_type": "code",
   "execution_count": 7,
   "id": "69aa3954-f476-4c7c-889a-861579a17c62",
   "metadata": {},
   "outputs": [
    {
     "name": "stdout",
     "output_type": "stream",
     "text": [
      "content of derived class: \n",
      "10 20 30 40\n"
     ]
    }
   ],
   "source": [
    "# Super to call super class constructor\n",
    "class BaseDemo:\n",
    "    a=0\n",
    "    b=0\n",
    "    c=0\n",
    "    def __init__(self,A,B,C):\n",
    "        self.a=A\n",
    "        self.b=B\n",
    "        self.c=C\n",
    "    def display(self):\n",
    "        print( self.a, self.b, self.c)\n",
    "\n",
    "class DerivedDemo(BaseDemo):\n",
    "    d=0\n",
    "    def __init__(self,A,B,C,D):\n",
    "        self.d=D\n",
    "        super().__init__(A,B,C)\n",
    "    def display(self):\n",
    "        print( self.a, self.b, self.c, self.d)\n",
    "\n",
    "P=DerivedDemo(10,20,30,40)\n",
    "print('content of derived class: ')\n",
    "P.display()\n"
   ]
  },
  {
   "cell_type": "code",
   "execution_count": 2,
   "id": "e482e2b5-00bf-4a93-a3f1-08c80e612aa1",
   "metadata": {},
   "outputs": [
    {
     "name": "stdout",
     "output_type": "stream",
     "text": [
      "addition of n1 and n2 is 42\n",
      "subtraction of n2 from n1 is 18\n",
      "multiplication n1 with n2 is 360\n",
      "result of n1/n2 is 2.5\n",
      "result of n1//n2 is 2\n",
      "result of n1%n2 is 6\n"
     ]
    }
   ],
   "source": [
    "# OPERATOR OVERLOADING\n",
    "# It means to assign a special meaning to the existing operator to perform some intended task.\n",
    "# E.g. ‘+’ operator is used to add two numbers, same can be used to concatenate two strings\n",
    "# Similarly two class objects can be added by using the concept of operator overloading.\n",
    "\n",
    "class num:   \n",
    "    def __init__(self,n): \n",
    "        self.number=n \n",
    "    def __add__(self,obj):   \n",
    "        return (self.number+obj.number)\n",
    "    def __sub__(self,obj):   \n",
    "        return (self.number-obj.number)\n",
    "    def __mul__(self,obj):   \n",
    "        return (self.number*obj.number)\n",
    "    def __truediv__(self,obj):   \n",
    "        return (self.number/obj.number)\n",
    "    def __mod__(self,obj):   \n",
    "        return (self.number%obj.number)\n",
    "    def __floordiv__(self,obj):   \n",
    "        return (self.number//obj.number)\n",
    "    def display(self): \n",
    "        print('number is : ',self.number)\n",
    "\n",
    "n1= num(30)\n",
    "n2= num(12)\n",
    "print('addition of n1 and n2 is', n1+n2)\n",
    "print('subtraction of n2 from n1 is', n1-n2)\n",
    "print('multiplication n1 with n2 is', n1*n2)\n",
    "print('result of n1/n2 is', n1/n2)\n",
    "print('result of n1//n2 is', n1//n2)\n",
    "print('result of n1%n2 is', n1%n2)\n",
    "\n"
   ]
  },
  {
   "cell_type": "code",
   "execution_count": 8,
   "id": "7596ad17-18d8-48dd-8407-c19bbdfdc196",
   "metadata": {},
   "outputs": [
    {
     "ename": "IndentationError",
     "evalue": "unindent does not match any outer indentation level (<tokenize>, line 6)",
     "output_type": "error",
     "traceback": [
      "\u001b[1;36m  File \u001b[1;32m<tokenize>:6\u001b[1;36m\u001b[0m\n\u001b[1;33m    def __add__(self,obj):\u001b[0m\n\u001b[1;37m    ^\u001b[0m\n\u001b[1;31mIndentationError\u001b[0m\u001b[1;31m:\u001b[0m unindent does not match any outer indentation level\n"
     ]
    }
   ],
   "source": [
    "# Overloading + OPERATOR\n",
    "class complex:   \n",
    " \tdef __init__(self, real,imag): \n",
    "    \tself.real=real \n",
    "\t    self.imag=imag \n",
    "    def __add__(self,obj):   \n",
    "        real=self.real+obj.real   \n",
    "        imag=self.imag+obj.imag \n",
    "        return (complex(real,imag))   \n",
    "\tdef display(self): \n",
    "\t    print(self.real,' +', self.imag,\"i\")\n",
    "        \n",
    "c1=complex(10,20)\n",
    "c2=complex(23,12)\n",
    "c1.display()\n",
    "c2.display()\n",
    "c3=c1+c2\n",
    "c3.display()\n"
   ]
  },
  {
   "cell_type": "code",
   "execution_count": 16,
   "id": "f744bbdf-2e44-4735-8603-bea804ff6753",
   "metadata": {},
   "outputs": [
    {
     "ename": "TabError",
     "evalue": "inconsistent use of tabs and spaces in indentation (984198771.py, line 4)",
     "output_type": "error",
     "traceback": [
      "\u001b[1;36m  Cell \u001b[1;32mIn[16], line 4\u001b[1;36m\u001b[0m\n\u001b[1;33m    self.number=n\u001b[0m\n\u001b[1;37m    ^\u001b[0m\n\u001b[1;31mTabError\u001b[0m\u001b[1;31m:\u001b[0m inconsistent use of tabs and spaces in indentation\n"
     ]
    }
   ],
   "source": [
    "# OVERLOADING RELATIONAL OPERATOR\n",
    "class num:   \n",
    " \tdef __init__(self,n):\n",
    "        self.number=n \n",
    "        def __gt__(self,obj):   \n",
    "            return (self.number>obj.number)\n",
    "\tdef display(self): \n",
    "\t    print(‘number is : ‘,self.number)\n",
    "n1= num(20)\n",
    "n2= num(12)\n",
    "print(n1>n2)\n"
   ]
  },
  {
   "cell_type": "code",
   "execution_count": null,
   "id": "a6960310-7775-473d-8037-76522824dd6a",
   "metadata": {},
   "outputs": [],
   "source": []
  }
 ],
 "metadata": {
  "kernelspec": {
   "display_name": "Python 3 (ipykernel)",
   "language": "python",
   "name": "python3"
  },
  "language_info": {
   "codemirror_mode": {
    "name": "ipython",
    "version": 3
   },
   "file_extension": ".py",
   "mimetype": "text/x-python",
   "name": "python",
   "nbconvert_exporter": "python",
   "pygments_lexer": "ipython3",
   "version": "3.11.5"
  }
 },
 "nbformat": 4,
 "nbformat_minor": 5
}
