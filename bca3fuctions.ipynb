{
 "cells": [
  {
   "cell_type": "code",
   "execution_count": 3,
   "id": "94429601-d00a-44c9-9497-dfe841a0ceaa",
   "metadata": {},
   "outputs": [
    {
     "name": "stdout",
     "output_type": "stream",
     "text": [
      "GNIMT College BCA 3 Class\n"
     ]
    }
   ],
   "source": [
    "# Example of functions BCA3 Python Programming \n",
    "# Function print a string \n",
    "# ===========================================\n",
    "# defining the function\n",
    "def print_str1(str1):\n",
    "    print(str1)\n",
    "    return\n",
    "\n",
    "# calling the function\n",
    "print_str1(\"GNIMT College BCA 3 Class\")"
   ]
  },
  {
   "cell_type": "code",
   "execution_count": 1,
   "id": "35d0274d-8d2b-46b5-93cc-af597b55c2ed",
   "metadata": {},
   "outputs": [
    {
     "name": "stdout",
     "output_type": "stream",
     "text": [
      "Welcome to the Concepts of Functions\n"
     ]
    }
   ],
   "source": [
    "# Example of functions BCA3 Python Programming \n",
    "# Demo Function\n",
    "# ===============================================\n",
    "def Demo():\n",
    "    print('Welcome to the Concepts of Functions')\n",
    "    \n",
    "Demo()  #Call to Function Demo."
   ]
  },
  {
   "cell_type": "code",
   "execution_count": 2,
   "id": "1ac2944f-a1bb-440f-89a8-4f79edc02f24",
   "metadata": {},
   "outputs": [
    {
     "name": "stdout",
     "output_type": "stream",
     "text": [
      "40  is greater than  20\n"
     ]
    }
   ],
   "source": [
    "# Example of functions BCA3 Python Programming \n",
    "# function t find maximum of 2 numbers\n",
    "# pass BY VALUE , A COPY OF VARIABLE SENT TO FUNCTION\n",
    "# ===============================================\n",
    "def FindMax(num1,num2):\n",
    "    if num1 > num2:\n",
    "        print(num1, 'is greater than ',num2)\n",
    "    elif num2 > num1:\n",
    "        print(num2,' is greater than ', num1)\n",
    "    else:\n",
    "        print(' Both are equal')\n",
    "FindMax(20,40)\n"
   ]
  },
  {
   "cell_type": "code",
   "execution_count": 4,
   "id": "94b4b1e4-50d9-44b4-810a-d1cae07dbfb3",
   "metadata": {},
   "outputs": [
    {
     "name": "stdout",
     "output_type": "stream",
     "text": [
      "Before function call,a= 10 ,address= 140735456011336\n",
      "inside function,a= 20 ,address= 140735456011656\n",
      "After function call,a= 10 ,address= 140735456011336\n"
     ]
    }
   ],
   "source": [
    "# Example of functions BCA3 Python Programming \n",
    "# PASS by VALUE \n",
    "# Actual object NOT sent \n",
    "# ===============================================\n",
    "a=10\n",
    "def change_value(a):\n",
    "    a=20\n",
    "    print(\"inside function,a=\",a,\",address=\",id(a))\n",
    "    return\n",
    "\n",
    "print(\"Before function call,a=\",a,\",address=\",id(a))\n",
    "change_value(a)\n",
    "print(\"After function call,a=\",a,\",address=\",id(a))"
   ]
  },
  {
   "cell_type": "code",
   "execution_count": 9,
   "id": "5b8b2cf5-25e3-4758-8773-b6eabe21fb76",
   "metadata": {},
   "outputs": [
    {
     "name": "stdout",
     "output_type": "stream",
     "text": [
      "Value Before function,my_list= [1, 2, 3, 4, 5, 6] ,address= 1907650602752\n",
      "Value inside function,my_list= [1, 2, 3, 30, 5, 6] ,address= 1907650602752\n",
      "Value After function,my_list= [1, 2, 3, 30, 5, 6] ,address= 1907650602752\n"
     ]
    }
   ],
   "source": [
    "# Example of functions BCA3 Python Programming \n",
    "# PASS by REFERENCE \n",
    "# Actual object sent,  complete list is sent to function \n",
    "# ======================================================\n",
    "my_list=[1,2,3,4,5,6]\n",
    "def change_value_by_ref(my_list):\n",
    "    my_list[3]=30\n",
    "    print(\"Value inside function,my_list=\",my_list,\",address=\",id(my_list))\n",
    "    return\n",
    "\n",
    "print(\"Value Before function,my_list=\",my_list,\",address=\",id(my_list))\n",
    "change_value_by_ref(my_list)\n",
    "print(\"Value After function,my_list=\",my_list,\",address=\",id(my_list))"
   ]
  },
  {
   "cell_type": "code",
   "execution_count": 14,
   "id": "b9485133-b7fe-4c12-8c17-868326db4166",
   "metadata": {},
   "outputs": [
    {
     "name": "stdout",
     "output_type": "stream",
     "text": [
      "Display List using function\n",
      "20 30 40 50 60 \n",
      "Display List with out using function\n",
      "[20, 30, 40, 50, 60]\n"
     ]
    }
   ],
   "source": [
    "# Example of functions BCA3 Python Programming \n",
    "# passing list to function  \n",
    "# List is a mutable object. \n",
    "# Contents of List can be changed easily therefore list is said to be mutable object. \n",
    "# Thus Programmer can pass list to function and perform various operations on it. \n",
    "# ========================================================================\n",
    "def Print_Contents_List(L):\n",
    "    for x in range(0,len(L)):\n",
    "        L[x]=L[x]+10\n",
    "        print(L[x], end=' ')\n",
    "        \n",
    "L1 = [10,20,30,40,50]\n",
    "print(\"Display List using function\") \n",
    "Print_Contents_List(L1)  #Pass List L1\n",
    "print(\"\\nDisplay List with out using function\")\n",
    "print(L1)\n"
   ]
  },
  {
   "cell_type": "code",
   "execution_count": 15,
   "id": "b9ce6a5d-9c54-49ad-b57f-4a11bb9f7472",
   "metadata": {},
   "outputs": [
    {
     "name": "stdout",
     "output_type": "stream",
     "text": [
      "Name =  John age =   25\n",
      "Name =  40 age =   Sachin\n"
     ]
    }
   ],
   "source": [
    "# Example, use of Positional Arguments in Functions \n",
    "# first argument binds to the first parameter and \n",
    "# second argument binds to the second parameter. \n",
    "# This style of matching up arguments and parameter is called \n",
    "# “positional argument style” or “positional parameter style”.\n",
    "# ==================================================\n",
    "def Display(Name,age):\n",
    "    print(\"Name = \",Name,\"age =  \",age)\n",
    "    \n",
    "Display(\"John\",25) \n",
    "Display(40,\"Sachin\") \n"
   ]
  },
  {
   "cell_type": "code",
   "execution_count": 17,
   "id": "e4f0eb04-4879-40ab-a584-d06e4fd80b43",
   "metadata": {},
   "outputs": [
    {
     "name": "stdout",
     "output_type": "stream",
     "text": [
      "Name =  John age =   25\n"
     ]
    }
   ],
   "source": [
    "# Demonstrate use of Keyword Arguments\n",
    "# ====================================\n",
    "def Display(Name,age):\n",
    "    print(\"Name = \",Name,\"age =  \",age)\n",
    "\n",
    "Display(age=25,Name=\"John\") #Call function using keyword arguments  "
   ]
  },
  {
   "cell_type": "code",
   "execution_count": 1,
   "id": "0af0f46e-dc74-440f-b941-0ed3fcfbcda0",
   "metadata": {},
   "outputs": [
    {
     "name": "stdout",
     "output_type": "stream",
     "text": [
      "date:  20\n",
      "year:  1975\n"
     ]
    }
   ],
   "source": [
    "# Keyword arguments are related to the function calls.\n",
    "# Using keyword arguments in a function call, the caller identifies the arguments  by the parameter name.\n",
    "# Allows to skip arguments or place them out of order, the Python interpreter  use the keywords provided to match the values with parameters.\n",
    "def function1(date,year):\n",
    "    print(\"date: \",date)\n",
    "    print(\"year: \",year)\n",
    "    return\n",
    "function1(year=1975, date=20)    "
   ]
  },
  {
   "cell_type": "code",
   "execution_count": 2,
   "id": "bb8cd41b-b2ec-44ce-b30e-ed99ea9e3edd",
   "metadata": {},
   "outputs": [
    {
     "name": "stdout",
     "output_type": "stream",
     "text": [
      "22 1989 GNIMT Institute\n",
      "19 1989 GNIMT Institute\n",
      "15 1989 Purva Institute\n",
      "24 1897 Gunjan Singh\n"
     ]
    }
   ],
   "source": [
    "# another example keyword arguments \n",
    "def function2(date,year=1989,name=\"GNIMT\",title=\"Institute\"):\n",
    "    print(date,year,name,title)\n",
    "\n",
    "# calling of function2\n",
    "function2(22)\n",
    "function2(date=19)\n",
    "function2(date=15,name=\"Purva\")\n",
    "function2(24,1897,'Gunjan','Singh')\n"
   ]
  },
  {
   "cell_type": "code",
   "execution_count": 4,
   "id": "4ced116c-6e25-4bf7-bbca-c75e718d171b",
   "metadata": {},
   "outputs": [
    {
     "name": "stdout",
     "output_type": "stream",
     "text": [
      " Hello   Parminder  ! How are you ?\n"
     ]
    }
   ],
   "source": [
    "# Another Example keyword arguments\n",
    "def greet(name,msg=\"! How are you ?\"):\n",
    "    print(\" Hello \",name,msg)\n",
    "\n",
    "greet(\" Parminder \")"
   ]
  },
  {
   "cell_type": "code",
   "execution_count": 7,
   "id": "d19ee813-712c-45fc-9e4e-12e6df182182",
   "metadata": {},
   "outputs": [
    {
     "name": "stdout",
     "output_type": "stream",
     "text": [
      "['Devashish']\n",
      "['Devashish', 'Gunjan']\n",
      "['Devashish', 'Gunjan', 'Monika']\n",
      "['Devashish', 'Gunjan', 'Monika', 'Lalit']\n",
      "['Devashish', 'Gunjan', 'Monika', 'Lalit', 'Purva']\n",
      "\n",
      "Default values not shared between function calls\n",
      "['lm']\n",
      "['mm']\n"
     ]
    }
   ],
   "source": [
    "# The default value is evaluated only once. \n",
    "# This makes a difference when the  default is a mutable object \n",
    "# such as a list, dictionary, or instances of most  classes.\n",
    "def function1(b, L=[]):\n",
    "    L.append(b)\n",
    "    return L\n",
    "\n",
    "print(function1('Devashish'))\n",
    "print(function1('Gunjan'))\n",
    "print(function1('Monika'))\n",
    "print(function1('Lalit'))\n",
    "print(function1('Purva'))\n",
    "\n",
    "# if\twe don’t want the default value\t\n",
    "# to be shared between subsequent calls,\n",
    "def function1(b, L=None):\n",
    "    if L is None:\n",
    "        L = []\n",
    "    L.append(b)\n",
    "    return L\n",
    "print(\"\\nDefault values not shared between function calls\")\n",
    "print(function1('lm'))\n",
    "print(function1('mm'))\n"
   ]
  },
  {
   "cell_type": "code",
   "execution_count": 32,
   "id": "94795afc-ec9b-43e8-a84f-2c1c22045ece",
   "metadata": {},
   "outputs": [
    {
     "name": "stdout",
     "output_type": "stream",
     "text": [
      "Output: \n",
      "45\n",
      "()\n",
      "Output: \n",
      "56\n",
      "(89, 90, 67)\n"
     ]
    }
   ],
   "source": [
    "# Example Arbitrary Arguments Lists\n",
    "def function1(name, *value):\n",
    "    print(\"Output: \")\n",
    "    print(name)\n",
    "    print(value)\n",
    "    return\n",
    "\n",
    "function1(45)\n",
    "function1(56,89,90,67)"
   ]
  },
  {
   "cell_type": "code",
   "execution_count": 9,
   "id": "b1d16eef-8e10-40b0-a1f0-4c84eae6576f",
   "metadata": {},
   "outputs": [
    {
     "name": "stdout",
     "output_type": "stream",
     "text": [
      "Monika\n",
      "Monika\n",
      "Purva\n",
      "Lalit\n"
     ]
    }
   ],
   "source": [
    "# Example Arbitrary Arguments Lists\n",
    "def function2(*variable, value='Monika'):\n",
    "    print(value)\n",
    "    for val in variable:\n",
    "        print(val)\n",
    "    return\n",
    "\n",
    "function2('Monika','Purva','Lalit')"
   ]
  },
  {
   "cell_type": "code",
   "execution_count": 16,
   "id": "a46ed908-d9d1-4a02-b238-d47662b991cf",
   "metadata": {},
   "outputs": [
    {
     "name": "stdout",
     "output_type": "stream",
     "text": [
      "first = 19\n",
      "mid = September \n",
      "last = 2023\n"
     ]
    }
   ],
   "source": [
    "# ARBITRARY ARGUMENT LISTS\n",
    "# The special syntax **kwargs in function definitions \n",
    "# in python is used to pass a keyworded, variable-length argument list. \n",
    "# Python program to illustrate   \n",
    "# **kwargs for variable number of keyword arguments \n",
    "\n",
    "def myFun(**kwargs):\n",
    "    for key, value in kwargs.items():\n",
    "        print (\"%s = %s\" %(key, value))\n",
    "        \n",
    "myFun(first ='19', mid ='September ', last='2023')"
   ]
  },
  {
   "cell_type": "code",
   "execution_count": 19,
   "id": "821ab84a-ed0e-4ddc-ab6f-194e56c06a67",
   "metadata": {},
   "outputs": [
    {
     "name": "stdout",
     "output_type": "stream",
     "text": [
      "Square =  4\n",
      "Cube   =  27\n",
      "Sqrt   =  2.0\n"
     ]
    }
   ],
   "source": [
    "# Returning Multiple Values\n",
    "# In python, it is possible to return multiple values.  \n",
    "# Syntax to return multiple values is as follows \n",
    "#        return Value1,Value2,Value3 \n",
    "\n",
    "import math\n",
    "def Sq_Cub_Srt(a,b,c):\n",
    "    return a**2, b**3, math.sqrt(c)\n",
    "    \n",
    "S,C,Sq = Sq_Cub_Srt(2,3,4)\n",
    "print('Square = ',S)\n",
    "print('Cube   = ',C)\n",
    "print('Sqrt   = ',Sq) \n"
   ]
  },
  {
   "cell_type": "code",
   "execution_count": 21,
   "id": "8e9abd79-3c9c-4085-9231-5e4e1f8d0540",
   "metadata": {},
   "outputs": [
    {
     "name": "stdout",
     "output_type": "stream",
     "text": [
      "The value of Local variable q: 10\n",
      "The value of Global Variable p: 20\n",
      "The value of Local variable q: 10\n",
      "The value of Global Variable p: 20\n",
      "The value of global variable  p: 20\n"
     ]
    }
   ],
   "source": [
    "# Example on Scope of Variables\n",
    "p = 20          #global variable p\n",
    "def Demo():\n",
    "    q = 10      #Local variable q\n",
    "    print('The value of Local variable q:',q)\n",
    "    #Access global variable p within this function\n",
    "    print('The value of Global Variable p:',p)\n",
    "    \n",
    "Demo()\n",
    "# Access global variable p outside the function\n",
    "Demo()\n",
    "print('The value of global variable  p:',p)  \n"
   ]
  },
  {
   "cell_type": "code",
   "execution_count": 22,
   "id": "b2a3ff3e-1a41-4ca9-8da2-6bd390448187",
   "metadata": {},
   "outputs": [
    {
     "name": "stdout",
     "output_type": "stream",
     "text": [
      "The value of variable p: 10\n",
      "The value of Global Variable p: 10\n",
      "The value of global variable  p: 10\n"
     ]
    }
   ],
   "source": [
    "# Another example on global variable \n",
    "p = 20          #global variable p\n",
    "def Demo():\n",
    "    global p\n",
    "    p = 10 \n",
    "    print('The value of variable p:',p)\n",
    "    #Access global variable p within this function\n",
    "    print('The value of Global Variable p:',p)\n",
    "Demo()\n",
    "#Access global variable p outside the function Demo()\n",
    "print('The value of global variable  p:',p)  \n"
   ]
  },
  {
   "cell_type": "code",
   "execution_count": 31,
   "id": "0c80ae23-a800-4523-ab50-21544e566d11",
   "metadata": {},
   "outputs": [
    {
     "name": "stdout",
     "output_type": "stream",
     "text": [
      " -------Cube Lambda------- \n",
      "27\n",
      " -------sum Lambda------- \n",
      "Value of total :  60\n",
      " -------Squared Lambda------- \n",
      "[1, 4, 9, 16, 25]\n"
     ]
    }
   ],
   "source": [
    "# LAMBDA EXPRESSIONS\n",
    "# Small functions can be created with the lambda keyword also known as Anonymous function.\n",
    "# Used wherever functions object are required.\n",
    "# These functions are called anonymous because they are not declared in the standard manner \n",
    "# by using the def keyword. .\n",
    "# Syntax : lambda [arg1 [,arg2,.....argn]] : expression\n",
    "# Following is the example to calculate the cube of a number using lambda function\n",
    "print(\" -------Cube Lambda------- \")\n",
    "cube =  lambda a: a*a*a\n",
    "print(cube(3))\n",
    "# =====================================================\n",
    "print(\" -------sum Lambda------- \")\n",
    "sum = lambda arg1, arg2,arg3: arg1 + arg2 + arg3;\n",
    "print (\"Value of total : \", sum( 10, 20,30 ) )\n",
    "# ====================================================\n",
    "print(\" -------Squared Lambda------- \")\n",
    "numbers = [1, 2, 3, 4, 5]\n",
    "squared = list(map(lambda x: x**2, numbers))\n",
    "print(squared)\n"
   ]
  },
  {
   "cell_type": "code",
   "execution_count": null,
   "id": "695bc852-0637-456f-b3dc-d5c9e1b62368",
   "metadata": {},
   "outputs": [],
   "source": []
  }
 ],
 "metadata": {
  "kernelspec": {
   "display_name": "Python 3 (ipykernel)",
   "language": "python",
   "name": "python3"
  },
  "language_info": {
   "codemirror_mode": {
    "name": "ipython",
    "version": 3
   },
   "file_extension": ".py",
   "mimetype": "text/x-python",
   "name": "python",
   "nbconvert_exporter": "python",
   "pygments_lexer": "ipython3",
   "version": "3.11.1"
  }
 },
 "nbformat": 4,
 "nbformat_minor": 5
}
